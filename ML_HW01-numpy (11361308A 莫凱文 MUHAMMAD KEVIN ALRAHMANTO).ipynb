{
 "cells": [
  {
   "cell_type": "markdown",
   "metadata": {},
   "source": [
    "<div class=\"alert-info\">\n",
    "<font color='blue'>\n",
    "<h3 align=\"center\">\n",
    "11361308A 莫凱文 MUHAMMAD KEVIN ALRAHMANTO"
   ]
  },
  {
   "cell_type": "code",
   "execution_count": 1,
   "metadata": {},
   "outputs": [
    {
     "data": {
      "text/plain": [
       "'C:\\\\Users\\\\kevin\\\\Downloads'"
      ]
     },
     "execution_count": 1,
     "metadata": {},
     "output_type": "execute_result"
    }
   ],
   "source": [
    "import os\n",
    "os.getcwd()"
   ]
  },
  {
   "cell_type": "markdown",
   "metadata": {
    "id": "C1f9-byOAOjX"
   },
   "source": [
    "## ML Spring 2024\n",
    "#### Dr. Ilia Tetin\n",
    "\n",
    "## Homework 1 (5 points)\n",
    "All tasks worth the same: 0.5 point"
   ]
  },
  {
   "cell_type": "markdown",
   "metadata": {
    "id": "Zoxtep1QAOjY"
   },
   "source": [
    "### About the Assignment\n",
    "\n",
    "In this homework, you will practice working with the numpy library, which allows for relatively easy and convenient execution of various calculations, avoiding the need for manual element-wise processing.\n",
    "\n",
    "In all tasks, you must write the solution code inside a function and ensure that it works using assert on an expression using this function for the data from the condition https://python-reference.readthedocs.io/en/latest/docs/statements/assert.html\n",
    "\n",
    "The use of loops (`for, while`) and the `if` operator is prohibited in solving the tasks.\n",
    "\n",
    "Wherever arrays or matrices are mentioned, it is assumed that these are numpy.array.\n",
    "\n",
    "numpy reference: https://numpy.org/doc/stable/reference/index.html"
   ]
  },
  {
   "cell_type": "code",
   "execution_count": 2,
   "metadata": {
    "executionInfo": {
     "elapsed": 3,
     "status": "ok",
     "timestamp": 1708608980127,
     "user": {
      "displayName": "Ilia Tetin",
      "userId": "14973929484785177338"
     },
     "user_tz": -480
    },
    "id": "aeAXcpEeAOjY",
    "pycharm": {
     "name": "#%%\n"
    }
   },
   "outputs": [],
   "source": [
    "import numpy as np"
   ]
  },
  {
   "cell_type": "markdown",
   "metadata": {
    "id": "UEJrNPnSAOjZ"
   },
   "source": [
    "<div class=\"alert-info\">\n",
    "<font color='blue'>\n",
    "<h3 align=\"center\">\n",
    "TASK 1"
   ]
  },
  {
   "cell_type": "markdown",
   "metadata": {
    "id": "UEJrNPnSAOjZ"
   },
   "source": [
    "Write a function that returns the rounded weighted sum of grades based on the given grades and weights. You can calculate your grade for the course :) In our case, the weight of the exam is 0.3, the weight of homework is 0.4, the weight of tests is 0.2, and the weight of independent work is 0.1. For example, if you score 7 for the exam, 10 for homework, 8 for tests, and 6 for independent work, then you will receive an excellent grade of 8!"
   ]
  },
  {
   "cell_type": "code",
   "execution_count": 3,
   "metadata": {
    "id": "XUHlQ1p3AOjZ",
    "pycharm": {
     "name": "#%%\n"
    }
   },
   "outputs": [],
   "source": [
    "def result_mark(weights: np.array, marks: np.array) -> int:\n",
    "    # your code here\n",
    "    return int(np.multiply(weights,marks).sum().round(0))\n"
   ]
  },
  {
   "cell_type": "code",
   "execution_count": 4,
   "metadata": {
    "id": "hvVRWUzlAOjZ",
    "pycharm": {
     "name": "#%%\n"
    }
   },
   "outputs": [],
   "source": [
    "weights = np.array([0.3, 0.4, 0.2, 0.1])\n",
    "marks = np.array([7, 10, 8, 6])\n",
    "\n",
    "assert result_mark(weights, marks) == 8"
   ]
  },
  {
   "cell_type": "code",
   "execution_count": 5,
   "metadata": {
    "id": "1HD35DqiAOjZ",
    "pycharm": {
     "name": "#%%\n"
    }
   },
   "outputs": [],
   "source": [
    "weights = np.array([0.3, 0.4, 0.2, 0.1])\n",
    "marks = np.array([7, 0, 8, 6])\n",
    "\n",
    "assert result_mark(weights, marks) == 4"
   ]
  },
  {
   "cell_type": "markdown",
   "metadata": {
    "id": "sWcc0jLtAOja"
   },
   "source": [
    "<div class=\"alert-info\">\n",
    "<font color='blue'>\n",
    "<h3 align=\"center\">\n",
    "TASK 2"
   ]
  },
  {
   "cell_type": "markdown",
   "metadata": {
    "id": "pWmKFLj-AOja"
   },
   "source": [
    "Write a function that changes every third value in an array of integers to a given number, starting with the 0th element. For example, if the input array is `array([3, 5, 1, 0, -3, 22, 213436])` and the number is `-111`, the output should be `array([-111, 5, 1, -111, -3, 22, -111])`."
   ]
  },
  {
   "cell_type": "code",
   "execution_count": 6,
   "metadata": {
    "id": "wNUCHD2lAOja",
    "pycharm": {
     "name": "#%%\n"
    }
   },
   "outputs": [],
   "source": [
    "def change_array(array: np.array, number: int) -> np.array:\n",
    "    array[::3] = number\n",
    "    return array\n"
   ]
  },
  {
   "cell_type": "code",
   "execution_count": 7,
   "metadata": {
    "id": "OXZGc0u2AOja",
    "pycharm": {
     "name": "#%%\n"
    }
   },
   "outputs": [],
   "source": [
    "array = np.array([3, 5, 1, 0, -3, 22, 213436])\n",
    "number = -111\n",
    "\n",
    "assert np.allclose(change_array(array, number), np.array([-111, 5, 1, -111, -3, 22, -111]))"
   ]
  },
  {
   "cell_type": "code",
   "execution_count": 8,
   "metadata": {
    "id": "cL-3x1VkAOja",
    "pycharm": {
     "name": "#%%\n"
    }
   },
   "outputs": [],
   "source": [
    "array = np.array([3, 14, 15, 92, 6])\n",
    "number = 8\n",
    "\n",
    "assert np.allclose(change_array(array, number), np.array([8, 14, 15, 8, 6]))"
   ]
  },
  {
   "cell_type": "markdown",
   "metadata": {
    "id": "RmYAN1u9AOja"
   },
   "source": [
    "<div class=\"alert-info\">\n",
    "<font color='blue'>\n",
    "<h3 align=\"center\">\n",
    "TASK 3"
   ]
  },
  {
   "cell_type": "markdown",
   "metadata": {
    "id": "RmYAN1u9AOja"
   },
   "source": [
    "The task is to write a function find_close that outputs the indices of \"close\" elements from two given arrays. Specifically, these are pairs of elements whose absolute difference does not exceed a specified value. For example, given arrays `array([1.5, 0.5, 2, -4.1, -3, 6, -1])`, `array([1.2, 0.5, 1, -4, 3, 0, -1.2])`, and the number 0.5, the output should be `array([0, 1, 3, 6])`. (**important: not a `tuple`, but a one-dimensional array `numpy.ndarray` (e.g. `.ndim` = 1)!**)"
   ]
  },
  {
   "cell_type": "code",
   "execution_count": 9,
   "metadata": {
    "id": "uSUew6L_AOja",
    "pycharm": {
     "name": "#%%\n"
    }
   },
   "outputs": [],
   "source": [
    "def find_close(array1: np.array, array2: np.array,\n",
    "               precision: float) -> np.array:\n",
    "    return np.where(np.abs(np.subtract(array1, array2)) < precision)[0]\n"
   ]
  },
  {
   "cell_type": "code",
   "execution_count": 10,
   "metadata": {
    "id": "7rixulmwAOjb",
    "pycharm": {
     "name": "#%%\n"
    }
   },
   "outputs": [],
   "source": [
    "array1 = np.array([1.5, 0.5, 2, -4.1, -3, 6, -1])\n",
    "array2 = np.array([1.2, 0.5, 1, -4.0,  3, 0, -1.2])\n",
    "precision = 0.5\n",
    "res = find_close(array1, array2, precision)\n",
    "\n",
    "assert res.ndim == 1\n",
    "assert np.allclose(res, np.array([0, 1, 3, 6]))"
   ]
  },
  {
   "cell_type": "code",
   "execution_count": 11,
   "metadata": {
    "id": "TQubqRnhAOjb",
    "pycharm": {
     "name": "#%%\n"
    }
   },
   "outputs": [],
   "source": [
    "array1 = np.array([3.1415, 2.7182, 1.6180, 6.6261])\n",
    "array2 = np.array([6.6730, 1.3807, -1,     6.0222])\n",
    "precision = 1.7\n",
    "res = find_close(array1, array2, precision)\n",
    "\n",
    "assert res.ndim == 1\n",
    "assert np.allclose(res, np.array([1, 3]))"
   ]
  },
  {
   "cell_type": "markdown",
   "metadata": {
    "id": "3ujrxnQqAOjb"
   },
   "source": [
    "<div class=\"alert-info\">\n",
    "<font color='blue'>\n",
    "<h3 align=\"center\">\n",
    "TASK 4"
   ]
  },
  {
   "cell_type": "markdown",
   "metadata": {
    "id": "8USq7MpDAOjb"
   },
   "source": [
    "Write a function to create a block matrix from four identical blocks of a given matrix. For example, if this matrix is an input\n",
    "$$\n",
    "\\begin{pmatrix}\n",
    "0 & 1 & 2\\\\\n",
    "3 & 4 & 5\\\\\n",
    "\\end{pmatrix},\n",
    "$$\n",
    "the answer would be\n",
    "$$\n",
    "\\begin{pmatrix}\n",
    "0 & 1 & 2 & 0 & 1 & 2\\\\\n",
    "3 & 4 & 5 & 3 & 4 & 5\\\\\n",
    "0 & 1 & 2 & 0 & 1 & 2\\\\\n",
    "3 & 4 & 5 & 3 & 4 & 5\\\\\n",
    "\\end{pmatrix}\n",
    "$$"
   ]
  },
  {
   "cell_type": "code",
   "execution_count": 12,
   "metadata": {
    "id": "TxF8RPyUAOjb",
    "pycharm": {
     "name": "#%%\n"
    }
   },
   "outputs": [],
   "source": [
    "def block_matrix(block: np.array) -> np.array:\n",
    "    # your code here\n",
    "    return np.vstack((np.hstack((block, block)),np.hstack((block, block))))\n"
   ]
  },
  {
   "cell_type": "code",
   "execution_count": 13,
   "metadata": {
    "id": "4qtcWe_HAOjb",
    "pycharm": {
     "name": "#%%\n"
    }
   },
   "outputs": [],
   "source": [
    "block = np.array([[1, 3, 3], [7, 0, 0]])\n",
    "\n",
    "assert np.allclose(\n",
    "    block_matrix(block),\n",
    "    np.array([[1, 3, 3, 1, 3, 3],\n",
    "              [7, 0, 0, 7, 0, 0],\n",
    "              [1, 3, 3, 1, 3, 3],\n",
    "              [7, 0, 0, 7, 0, 0]])\n",
    ")"
   ]
  },
  {
   "cell_type": "markdown",
   "metadata": {
    "id": "neIVgsp_AOjb"
   },
   "source": [
    "<div class=\"alert-info\">\n",
    "<font color='blue'>\n",
    "<h3 align=\"center\">\n",
    "TASK 5"
   ]
  },
  {
   "cell_type": "markdown",
   "metadata": {
    "id": "dtWpUK1TAOjb"
   },
   "source": [
    "Develop a function to calculate the product of all non-zero diagonal elements of a given square matrix. Given\n",
    "$$\n",
    "\\begin{pmatrix}\n",
    "0 & 1 & 2\\\\\n",
    "3 & 4 & 5\\\\\n",
    "6 & 7 & 8\\\\\n",
    "\\end{pmatrix},\n",
    "$$\n",
    "тhe answer would be 32.\n",
    "\n",
    "The input and output should be managed with numpy arrays, and the elements are considered integers."
   ]
  },
  {
   "cell_type": "code",
   "execution_count": 14,
   "metadata": {
    "colab": {
     "base_uri": "https://localhost:8080/"
    },
    "executionInfo": {
     "elapsed": 9,
     "status": "ok",
     "timestamp": 1708608629642,
     "user": {
      "displayName": "Ilia Tetin",
      "userId": "14973929484785177338"
     },
     "user_tz": -480
    },
    "id": "JWB7rOzfAOjc",
    "outputId": "3d41b7d3-b801-40f8-b574-2e1bc6c4c4f1"
   },
   "outputs": [
    {
     "data": {
      "text/plain": [
       "0"
      ]
     },
     "execution_count": 14,
     "metadata": {},
     "output_type": "execute_result"
    }
   ],
   "source": [
    "matrix = np.array([[0, 1, 2, 3],\n",
    "                   [4, 5, 6, 7],\n",
    "                   [8, 9, 10, 11],\n",
    "                   [12, 13, 14, 15]])\n",
    "\n",
    "np.prod(np.diag(matrix))"
   ]
  },
  {
   "cell_type": "code",
   "execution_count": 15,
   "metadata": {
    "id": "OPacHykgAOjc",
    "pycharm": {
     "name": "#%%\n"
    }
   },
   "outputs": [],
   "source": [
    "def diag_prod(matrix: np.array) -> int:\n",
    "    # your code here\n",
    "    diag_m = np.diag(matrix)\n",
    "    return np.prod(diag_m[diag_m != 0])\n"
   ]
  },
  {
   "cell_type": "code",
   "execution_count": 16,
   "metadata": {
    "id": "9TEX2hJBAOjc",
    "pycharm": {
     "name": "#%%\n"
    }
   },
   "outputs": [],
   "source": [
    "matrix = np.array([[0, 1, 2, 3],\n",
    "                   [4, 5, 6, 7],\n",
    "                   [8, 9, 10, 11],\n",
    "                   [12, 13, 14, 15]])\n",
    "\n",
    "assert diag_prod(matrix) == 750"
   ]
  },
  {
   "cell_type": "markdown",
   "metadata": {
    "id": "egOPlV8kAOjc"
   },
   "source": [
    "<div class=\"alert-info\">\n",
    "<font color='blue'>\n",
    "<h3 align=\"center\">\n",
    "TASK 6"
   ]
  },
  {
   "cell_type": "markdown",
   "metadata": {
    "id": "lsJiwN1FAOjc"
   },
   "source": [
    "To enhance the performance of certain machine learning algorithms, it may be beneficial to employ data normalization to scale the features within a dataset to a uniform range. This is achieved by subtracting the mean value of each column from its values and dividing by the standard deviation of the values. This process aims to normalize the input matrix column-wise. For instance, given the input matrix:\n",
    "$$\n",
    "\\begin{pmatrix}\n",
    "1 & 4 & 4200\\\\\n",
    "0 & 10 & 5000\\\\\n",
    "1 & 2 & 1000\\\\\n",
    "\\end{pmatrix},\n",
    "$$\n",
    "the normalized matrix, rounded to two decimal places, would be:\n",
    "$$\n",
    "\\begin{pmatrix}\n",
    "0.71 & -0.39 & 0.46\\\\\n",
    "-1.41 & 1.37 & 0.93\\\\\n",
    "0.71 & -0.98 & -1.39\\\\\n",
    "\\end{pmatrix}\n",
    "$$\n",
    "\n",
    "It is crucial to avoid the generation of NaN values within the matrix."
   ]
  },
  {
   "cell_type": "code",
   "execution_count": 17,
   "metadata": {
    "id": "Ok7WdH_fAOjc",
    "pycharm": {
     "name": "#%%\n"
    }
   },
   "outputs": [],
   "source": [
    "def normalize(matrix: np.array) -> np.array:\n",
    "    # your code here\n",
    "    return np.round(( matrix - np.mean(matrix, axis=0) )/np.std(matrix, axis=0),5)\n"
   ]
  },
  {
   "cell_type": "code",
   "execution_count": 18,
   "metadata": {
    "id": "mNPggvLsAOjc",
    "pycharm": {
     "name": "#%%\n"
    }
   },
   "outputs": [],
   "source": [
    "matrix = np.array([[1, 4, 4200], [0, 10, 5000], [1, 2, 1000]])\n",
    "\n",
    "assert np.allclose(\n",
    "    normalize(matrix),\n",
    "    np.array([[ 0.70711, -0.39223,  0.46291],\n",
    "              [-1.41421,  1.37281,  0.92582],\n",
    "              [ 0.70711, -0.98058, -1.38873]])\n",
    ")"
   ]
  },
  {
   "cell_type": "code",
   "execution_count": 19,
   "metadata": {
    "id": "OH_JWzgTAOjd",
    "pycharm": {
     "name": "#%%\n"
    }
   },
   "outputs": [],
   "source": [
    "matrix = np.array([[-7, 2, 42], [2, 10, 50], [5, 4, 10]])\n",
    "\n",
    "assert np.allclose(\n",
    "    normalize(matrix),\n",
    "    np.array([[-1.37281, -0.98058,  0.46291],\n",
    "              [ 0.39223,  1.37281,  0.92582],\n",
    "              [ 0.98058, -0.39223, -1.38873]])\n",
    ")"
   ]
  },
  {
   "cell_type": "markdown",
   "metadata": {
    "id": "cCPuSp22AOjd"
   },
   "source": [
    "<div class=\"alert-info\">\n",
    "<font color='blue'>\n",
    "<h3 align=\"center\">\n",
    "TASK 7"
   ]
  },
  {
   "cell_type": "markdown",
   "metadata": {
    "id": "owK8SsE_AOjd"
   },
   "source": [
    "Write a function that returns the maximum element in a vector `x` among the elements that come immediately after a zero. For example, for `x = np.array([6, 2, 0, 3, 0, 0, 5, 7, 0])`, the answer should be `5`."
   ]
  },
  {
   "cell_type": "code",
   "execution_count": 20,
   "metadata": {
    "id": "xgNAre-hAOjd",
    "pycharm": {
     "name": "#%%\n"
    }
   },
   "outputs": [],
   "source": [
    "def prevZeroMax(matrix: np.array) -> int:\n",
    "    # your code here\n",
    "    max_zero_index = np.where(matrix[:len(matrix)-1]==0)[0][-1] \n",
    "    return matrix[max_zero_index + 1]\n"
   ]
  },
  {
   "cell_type": "code",
   "execution_count": 21,
   "metadata": {
    "id": "cpOt4OnMAOjd",
    "pycharm": {
     "name": "#%%\n"
    }
   },
   "outputs": [],
   "source": [
    "coefs = np.array([6, 2, 0, 3, 0, 0, 5, 7, 0])\n",
    "\n",
    "assert  prevZeroMax(coefs) == 5"
   ]
  },
  {
   "cell_type": "code",
   "execution_count": 22,
   "metadata": {
    "id": "Kf0JSluCAOjd",
    "pycharm": {
     "name": "#%%\n"
    }
   },
   "outputs": [],
   "source": [
    "coefs = np.array([1, 0, 1, 0, 4, 2, 0])\n",
    "\n",
    "assert prevZeroMax(coefs) == 4\n"
   ]
  },
  {
   "cell_type": "markdown",
   "metadata": {
    "id": "w3qTSp3MAOjd"
   },
   "source": [
    "<div class=\"alert-info\">\n",
    "<font color='blue'>\n",
    "<h3 align=\"center\">\n",
    "TASK 8"
   ]
  },
  {
   "cell_type": "markdown",
   "metadata": {
    "id": "N9q1xXEuAOjd"
   },
   "source": [
    "Write a function that makes a given triangular matrix symmetric. For instance, if the input matrix is as shown\n",
    "$$\n",
    "\\begin{pmatrix}\n",
    "1 & 2 & 3 & 4\\\\\n",
    "0 & 5 & 6 & 7\\\\\n",
    "0 & 0 & 8 & 9\\\\\n",
    "0 & 0 & 0 & 10\\\\\n",
    "\\end{pmatrix},\n",
    "$$\n",
    "the output should be a symmetric matrix where the upper triangular part is mirrored onto the lower part\n",
    "$$\n",
    "\\begin{pmatrix}\n",
    "1 & 2 & 3 & 4\\\\\n",
    "2 & 5 & 6 & 7\\\\\n",
    "3 & 6 & 8 & 9\\\\\n",
    "4 & 7 & 9 & 10\\\\\n",
    "\\end{pmatrix}.\n",
    "$$"
   ]
  },
  {
   "cell_type": "code",
   "execution_count": 23,
   "metadata": {
    "id": "IK7k2tpPAOjd",
    "pycharm": {
     "name": "#%%\n"
    }
   },
   "outputs": [],
   "source": [
    "def make_symmetric(matrix: np.array) -> np.array:\n",
    "    # your code here\n",
    "    m_add_mt = matrix + matrix.T\n",
    "    dim_matrix = np.shape(matrix)[1] \n",
    "    diag_half_multiplier = np.ones((dim_matrix,dim_matrix)) + np.diagflat([-0.5]*dim_matrix) \n",
    "    return np.multiply(m_add_mt, diag_half_multiplier)\n"
   ]
  },
  {
   "cell_type": "code",
   "execution_count": 24,
   "metadata": {
    "id": "dVGWp8DWAOje",
    "pycharm": {
     "name": "#%%\n"
    }
   },
   "outputs": [],
   "source": [
    "matrix = np.array([[1, 2, 3, 4], [0, 5, 6, 7], [0, 0, 8, 9], [0, 0, 0, 10]])\n",
    "\n",
    "assert np.allclose(\n",
    "    make_symmetric(matrix),\n",
    "    np.array([[ 1,  2,  3,  4],\n",
    "              [ 2,  5,  6,  7],\n",
    "              [ 3,  6,  8,  9],\n",
    "              [ 4,  7,  9, 10]])\n",
    ")"
   ]
  },
  {
   "cell_type": "code",
   "execution_count": 25,
   "metadata": {
    "id": "4IVI_E1VAOje",
    "pycharm": {
     "name": "#%%\n"
    }
   },
   "outputs": [],
   "source": [
    "matrix = np.array([[10, 21, 32, 49], [0, 53, 62, 78], [0, 0, 82, 92], [0, 0, 0, 10]])\n",
    "\n",
    "assert np.allclose(\n",
    "    make_symmetric(matrix),\n",
    "    np.array([[10, 21, 32, 49],\n",
    "              [21, 53, 62, 78],\n",
    "              [32, 62, 82, 92],\n",
    "              [49, 78, 92, 10]])\n",
    ")"
   ]
  },
  {
   "cell_type": "markdown",
   "metadata": {
    "id": "cSDNCgWsAOje"
   },
   "source": [
    "<div class=\"alert-info\">\n",
    "<font color='blue'>\n",
    "<h3 align=\"center\">\n",
    "TASK 9"
   ]
  },
  {
   "cell_type": "markdown",
   "metadata": {
    "id": "cQrFqES_AOje"
   },
   "source": [
    "Write a function that creates a rectangular matrix from `m` identical rows, each filled with consecutive natural numbers from a to b inclusive in ascending order. If `m = 5, a = 3, b = 10`, the output should be a matrix as described.\n",
    "$$\n",
    "\\begin{pmatrix}\n",
    "3 & 4 & 5 & 6 & 7 & 8 & 9 & 10\\\\\n",
    "3 & 4 & 5 & 6 & 7 & 8 & 9 & 10\\\\\n",
    "3 & 4 & 5 & 6 & 7 & 8 & 9 & 10\\\\\n",
    "3 & 4 & 5 & 6 & 7 & 8 & 9 & 10\\\\\n",
    "3 & 4 & 5 & 6 & 7 & 8 & 9 & 10\\\\\n",
    "\\end{pmatrix}\n",
    "$$"
   ]
  },
  {
   "cell_type": "code",
   "execution_count": 26,
   "metadata": {},
   "outputs": [],
   "source": [
    "def construct_matrix(m: int, a: int, b: int) -> np.array:\n",
    "    # your code here\n",
    "    return np.array([range(a, b+1)]*m)"
   ]
  },
  {
   "cell_type": "code",
   "execution_count": 27,
   "metadata": {
    "id": "p5g-crX4AOje",
    "pycharm": {
     "name": "#%%\n"
    }
   },
   "outputs": [],
   "source": [
    "m = 5\n",
    "a = 3\n",
    "b = 10\n",
    "\n",
    "assert np.allclose(\n",
    "    construct_matrix(m, a, b),\n",
    "    np.array([[ 3,  4,  5,  6,  7,  8,  9, 10],\n",
    "              [ 3,  4,  5,  6,  7,  8,  9, 10],\n",
    "              [ 3,  4,  5,  6,  7,  8,  9, 10],\n",
    "              [ 3,  4,  5,  6,  7,  8,  9, 10],\n",
    "              [ 3,  4,  5,  6,  7,  8,  9, 10]])\n",
    ")"
   ]
  },
  {
   "cell_type": "code",
   "execution_count": 28,
   "metadata": {
    "id": "Mp0jPmmMAOje",
    "pycharm": {
     "name": "#%%\n"
    }
   },
   "outputs": [],
   "source": [
    "m = 3\n",
    "a = 2\n",
    "b = 6\n",
    "\n",
    "assert np.allclose(\n",
    "    construct_matrix(m, a, b),\n",
    "    np.array([[2, 3, 4, 5, 6],\n",
    "              [2, 3, 4, 5, 6],\n",
    "              [2, 3, 4, 5, 6]])\n",
    ")"
   ]
  },
  {
   "cell_type": "markdown",
   "metadata": {
    "id": "Ut3WDHfpAOje"
   },
   "source": [
    "<div class=\"alert-info\">\n",
    "<font color='blue'>\n",
    "<h3 align=\"center\">\n",
    "TASK 10"
   ]
  },
  {
   "cell_type": "markdown",
   "metadata": {
    "id": "EOjCb65XAOje"
   },
   "source": [
    "Write a function that calculates the cosine similarity between two vectors.  [cosine similarity](https://en.wikipedia.org/wiki/Cosine_similarity) . For example, if the input vectors are `array([-2, 1, 0, -5, 4, 3, -3])` and `array([0, 2, -2, 10, 6, 0, 0])`, the answer should be `-0.25`."
   ]
  },
  {
   "cell_type": "code",
   "execution_count": 29,
   "metadata": {
    "id": "qUXBBMd5AOjf",
    "pycharm": {
     "name": "#%%\n"
    }
   },
   "outputs": [],
   "source": [
    "def cosine_similarity(vec1: np.array, vec2: np.array) -> float:\n",
    "    # your code here\n",
    "    numerator  = np.dot(vec1, vec2) \n",
    "    denominator = (  np.sqrt(np.sum(vec1**2)) ) * ( np.sqrt(np.sum(vec2**2))   )\n",
    "    return  numerator/denominator"
   ]
  },
  {
   "cell_type": "code",
   "execution_count": 30,
   "metadata": {
    "id": "9XIVuh4oAOjf",
    "pycharm": {
     "name": "#%%\n"
    }
   },
   "outputs": [],
   "source": [
    "vec1 = np.array([-2, 1,  0, -5, 4, 3, -3])\n",
    "vec2 = np.array([ 0, 2, -2, 10, 6, 0,  0])\n",
    "\n",
    "assert np.allclose(cosine_similarity(vec1, vec2), -0.25)"
   ]
  },
  {
   "cell_type": "code",
   "execution_count": 31,
   "metadata": {
    "id": "P7_ZIazdAOjf",
    "pycharm": {
     "name": "#%%\n"
    }
   },
   "outputs": [],
   "source": [
    "vec1 = np.array([-4, 2,  9, -8, 9, 0, -2])\n",
    "vec2 = np.array([ 3, 2, -4, -1, 3, 2,  2])\n",
    "\n",
    "assert np.allclose(cosine_similarity(vec1, vec2), -0.119929)"
   ]
  }
 ],
 "metadata": {
  "colab": {
   "provenance": [
    {
     "file_id": "1ou6Xvsek5UAFNlg00CfLTt_nTF85a2T0",
     "timestamp": 1708608797839
    }
   ]
  },
  "kernelspec": {
   "display_name": "Python 3 (ipykernel)",
   "language": "python",
   "name": "python3"
  },
  "language_info": {
   "codemirror_mode": {
    "name": "ipython",
    "version": 3
   },
   "file_extension": ".py",
   "mimetype": "text/x-python",
   "name": "python",
   "nbconvert_exporter": "python",
   "pygments_lexer": "ipython3",
   "version": "3.11.4"
  }
 },
 "nbformat": 4,
 "nbformat_minor": 1
}
